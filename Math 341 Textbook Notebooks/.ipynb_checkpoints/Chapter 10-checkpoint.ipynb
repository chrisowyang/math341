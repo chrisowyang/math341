{
 "cells": [
  {
   "cell_type": "markdown",
   "metadata": {},
   "source": [
    "# Chapter 10 - Tools: Convolutions and Changing Variables (Python Code)"
   ]
  },
  {
   "cell_type": "markdown",
   "metadata": {},
   "source": [
    "## 10.6 - Appendix: Products and Quotients of Random Variables"
   ]
  },
  {
   "cell_type": "markdown",
   "metadata": {},
   "source": [
    "### 10.6.3 Example: Quotient of Exponentials "
   ]
  },
  {
   "cell_type": "markdown",
   "metadata": {},
   "source": [
    "Fix a $\\lambda > 0$ and let $X, Y ∼ Exp(\\lambda)$ be two independent exponentially distributed random variables (so their densities are $λ−1 exp(−t/\\lambda)$; see Chapter 13 for more on exponential distributions), and set $Z = X/Y$ . We use the results from §10.6.2 to find the density of Z. We can try to do some simulations to see if the answer depends on $\\lambda$. Here is\n",
    "some simple Python code to simulate a large number of ratios and calculate the sample mean."
   ]
  },
  {
   "cell_type": "code",
   "execution_count": 2,
   "metadata": {
    "collapsed": true
   },
   "outputs": [],
   "source": [
    "import random \n",
    "\n",
    "def ratioexp(Lambda, trials):\n",
    "    total=0\n",
    "    for i in range(trials):\n",
    "        x=random.expovariate(Lambda) #samples X from exp distribution\n",
    "        y=random.expovariate(Lambda) #samples Y from exp distribution\n",
    "        total+=(x/y)\n",
    "    return (total/trials)"
   ]
  },
  {
   "cell_type": "markdown",
   "metadata": {},
   "source": [
    "## 10.8 - Additional Problems"
   ]
  },
  {
   "cell_type": "markdown",
   "metadata": {},
   "source": [
    "### Problem 10.8.20 "
   ]
  },
  {
   "cell_type": "markdown",
   "metadata": {},
   "source": [
    "Write code that will take many samples from a random variable with probability density function $f_X (x) = 1$ on [0, 1],. Plot a histogram showing the approximate pdf for $Y$ , where $Y = e^X$ and $X$ is a random variable with pdf $f_X$"
   ]
  },
  {
   "cell_type": "code",
   "execution_count": null,
   "metadata": {
    "collapsed": true
   },
   "outputs": [],
   "source": [
    "import random \n",
    "import math\n",
    "import numpy as np\n",
    "import matplotlib.pyplot as plt\n",
    "\n",
    "def sim(trials):\n",
    "    Y=[]\n",
    "    for i in range(trials):\n",
    "        x=random.uniform(0,1) #samples X from a random distribution\n",
    "        Y.append(math.exp(x)) #creates corresponding Y\n",
    "\n",
    "    plt.hist(Y, weights=np.zeros_like(Y) + 1. / len(Y)) #creates histrogram\n",
    "    plt.title(\"Distribution of Y for {} Trials\".format(trials)) #creates title\n",
    "    plt.xlabel(\"Sum\") #creates X-axis label\n",
    "    plt.ylabel(\"Probability\") #creates Y-axis label\n",
    "    fig = plt.gcf()\n",
    "    fig.show() #produces a scaled histogram where area under curve is one \n"
   ]
  }
 ],
 "metadata": {
  "kernelspec": {
   "display_name": "Python 3",
   "language": "python",
   "name": "python3"
  },
  "language_info": {
   "codemirror_mode": {
    "name": "ipython",
    "version": 3
   },
   "file_extension": ".py",
   "mimetype": "text/x-python",
   "name": "python",
   "nbconvert_exporter": "python",
   "pygments_lexer": "ipython3",
   "version": "3.3.5"
  }
 },
 "nbformat": 4,
 "nbformat_minor": 0
}
