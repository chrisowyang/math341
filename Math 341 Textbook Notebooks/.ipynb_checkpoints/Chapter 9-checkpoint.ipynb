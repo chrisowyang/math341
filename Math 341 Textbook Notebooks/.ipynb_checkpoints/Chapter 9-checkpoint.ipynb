{
 "cells": [
  {
   "cell_type": "markdown",
   "metadata": {},
   "source": [
    "# Chapter 9 - Tools: Expectation (Python Code)"
   ]
  },
  {
   "cell_type": "markdown",
   "metadata": {},
   "source": [
    "## 9.10 - Additional Problems"
   ]
  },
  {
   "cell_type": "markdown",
   "metadata": {},
   "source": [
    "### Problem 9.10.32"
   ]
  },
  {
   "cell_type": "markdown",
   "metadata": {},
   "source": [
    "In World War 2, the Allies wanted a good method for estimating the number of German tanks in production. The Allies were able to capture some German tanks and get the serial numbers from them, which were known to be sequential from 1 to N , where k was the number of tanks. The maximum captured tank was numbered m. Unfortunately, the number of tanks captured, k was not large enough that the allies could reasonably expect that m ≈ N and it was necessary to inflate m to obtain a more accurate estimate. Consider M to be a random variable, corresponding to the largest tank observed. One of the methods explored to estimate the number of German tanks is discussed below. We give a proof of this in §12.7.\n",
    "\n",
    "Write code that simulates observing k tanks from a population of N tanks. Test the effectiveness of the formula you derived at estimating N given the k observed tanks."
   ]
  },
  {
   "cell_type": "code",
   "execution_count": 2,
   "metadata": {
    "collapsed": true
   },
   "outputs": [],
   "source": [
    "import random\n",
    "\n",
    "def tanks(N,k,trials):\n",
    "    total=0\n",
    "    tanks=[i for i in range(1,N+1)] #creates a list of N tanks\n",
    "    for i in range(trials):\n",
    "        sample=random.sample(tanks,k) #randomly samples k tanks from the list\n",
    "        m=max(sample) #finds the maximum serial number\n",
    "        total+=(m*(k+1)/k -1) \n",
    "    estimate=total/trials #finds the average max serial number\n",
    "    error=(estimate-N) #calculates error\n",
    "    return (estimate, error)"
   ]
  }
 ],
 "metadata": {
  "kernelspec": {
   "display_name": "Python 3",
   "language": "python",
   "name": "python3"
  },
  "language_info": {
   "codemirror_mode": {
    "name": "ipython",
    "version": 3
   },
   "file_extension": ".py",
   "mimetype": "text/x-python",
   "name": "python",
   "nbconvert_exporter": "python",
   "pygments_lexer": "ipython3",
   "version": "3.3.5"
  }
 },
 "nbformat": 4,
 "nbformat_minor": 0
}
