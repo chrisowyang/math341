{
 "cells": [
  {
   "cell_type": "markdown",
   "metadata": {},
   "source": [
    "# Chapter 8 - Introduction to Discrete Random Variables (Python Code)"
   ]
  },
  {
   "cell_type": "markdown",
   "metadata": {},
   "source": [
    "## 8.6 - Additional Problems"
   ]
  },
  {
   "cell_type": "markdown",
   "metadata": {},
   "source": [
    "### Problem 8.6.25 "
   ]
  },
  {
   "cell_type": "markdown",
   "metadata": {},
   "source": [
    "Imagine are traveling and have 2 flights to catch. Unfortunately, you didn’t plan well and have a 0 minute layover, that is if your first flight is late and the next flight is on time then you will miss your second flight, ruining all your travel plans. Make the unreasonable assumptions that airline delays are independent, so that if your first flight is delayed it does not have any effect on the probability that any of your latter flights are delayed. Assume also that 75% of the time flights are on-time, and if the flight is late then the probability it is exactly t minutes late is $1/t^2$ for any real $t ≥ 0$. What is the probability you do not miss your second flight?\n",
    "\n",
    "Write some code to model and simulate the previous plane question. Extend the simulation to more than 2 flights and find the probability you make all of these flights"
   ]
  },
  {
   "cell_type": "code",
   "execution_count": 32,
   "metadata": {
    "collapsed": false
   },
   "outputs": [
    {
     "data": {
      "text/plain": [
       "0.0"
      ]
     },
     "execution_count": 32,
     "metadata": {},
     "output_type": "execute_result"
    }
   ],
   "source": [
    "import random\n",
    "\n",
    "def sim2(trials): #simluation for two planes\n",
    "    count=0 # number of second flights made\n",
    "    \n",
    "    for i in range(trials): \n",
    "        t1=0\n",
    "        t2=0\n",
    "        flight1=random.uniform(0,1) \n",
    "        if flight1>0.75: #if we miss the first flight\n",
    "            t1=1/(random.uniform(1,1000000))**2\n",
    "            \n",
    "            flight2=random.uniform(0,1)\n",
    "            if flight2>=0.75: #if we miss the second flight\n",
    "                t2=1/(random.uniform(1,1000000))**2\n",
    "                if t1>t2: # if the delay of the first flight is shorter than that of the second\n",
    "                    count+=1\n",
    "        else:\n",
    "            count += 1\n",
    "    return count/trials\n",
    "\n",
    "def sim_n(trials,flights): #simluation for n planes\n",
    "    count=0 # number of final flights made\n",
    "    for i in range(trials): \n",
    "        ts = [0 for i in range(flights)]\n",
    "        \n",
    "        for flight in range(flights): # for each flight\n",
    "            flight_stat = random.uniform(0,1)\n",
    "            if flight_stat > .75:    \n",
    "                ts[flight] = 1/(random.uniform(1,1000000))**2\n",
    "    \n",
    "        missed = 0\n",
    "        \n",
    "        for x in range(flights-1): #this loops checks if we have missed any flights\n",
    "            if sum(ts[:x+1]) > ts[x+1]: #if the cumulative delays are less than the delay of the next flight\n",
    "                missed = 1\n",
    "                break\n",
    "        \n",
    "        if missed == 0: #if we haven't missed any flights\n",
    "            count += 1 #adds to count of successful journies\n",
    "    \n",
    "    return count/trials"
   ]
  }
 ],
 "metadata": {
  "kernelspec": {
   "display_name": "Python 3",
   "language": "python",
   "name": "python3"
  },
  "language_info": {
   "codemirror_mode": {
    "name": "ipython",
    "version": 3
   },
   "file_extension": ".py",
   "mimetype": "text/x-python",
   "name": "python",
   "nbconvert_exporter": "python",
   "pygments_lexer": "ipython3",
   "version": "3.3.5"
  }
 },
 "nbformat": 4,
 "nbformat_minor": 0
}
