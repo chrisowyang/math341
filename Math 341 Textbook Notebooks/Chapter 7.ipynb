{
 "cells": [
  {
   "cell_type": "markdown",
   "metadata": {},
   "source": [
    "# Chapter 7 - Introduction to Discrete Random Variables (Python Code)"
   ]
  },
  {
   "cell_type": "markdown",
   "metadata": {},
   "source": [
    "## 7.1 Discrete Random Variables: Definition"
   ]
  },
  {
   "cell_type": "markdown",
   "metadata": {},
   "source": [
    "For our example of flipping a fair coin three times from §7.1, we have $Prob(X_i = 1) = \\frac{1}{2}$, $Prob(X_i = 0) = \\frac{1}{2}$, and all other values have zero probability of hap- pening. Things are more interesting for ${X}$, the number of heads in three tosses of a fair coin. As each of the eight outcomes are equally likely, all we have to do is count how often $X$ equals $x$ and divide by 8. Equivalently, we just multiply by $\\frac{1}{8}$ for each outcome with $x$ heads. Thus\n",
    "\n",
    "$$Prob(X = 0) = 1/8, \\;  Prob(X = 1) = 3/8,$$ \n",
    "$$Prob(X = 2) = 3/8, \\;  Prob(X = 3) = 1/8;$$\n",
    "\n",
    "all other values have zero probability. Not surprisingly, each value is non-negative and the sum of all these values is 1. This can be confirmed via simulation. The Python code is below:"
   ]
  },
  {
   "cell_type": "code",
   "execution_count": 9,
   "metadata": {
    "collapsed": true
   },
   "outputs": [],
   "source": [
    "import math\n",
    "import random\n",
    "\n",
    "def three_coins(trials):\n",
    "    '''\n",
    "    Returns the simulated probabilities for the outcome space of three flipped fair coins\n",
    "    '''\n",
    "    counts=[0,0,0,0]\n",
    "    for i in range(trials):\n",
    "        x=random.randint(0,1)\n",
    "        y=random.randint(0,1)\n",
    "        z=random.randint(0,1)\n",
    "        counts[x+y+z]+=1 #decrament the appropriate count by 1 \n",
    "    for i in range(4):\n",
    "        theoretical=(6/8)/((math.factorial(3-i)*math.factorial(i))) #calculate theoretical probability of i heads\n",
    "        observed=counts[i]*100/trials #observed frequency of i heads\n",
    "        print(\"Simulated percent of time with {} heads is {}, and theory predicts {}%\".format(i, observed, theoretical))"
   ]
  },
  {
   "cell_type": "markdown",
   "metadata": {},
   "source": [
    "## 7.3 Discrete Random Variables: CDFs"
   ]
  },
  {
   "cell_type": "markdown",
   "metadata": {},
   "source": [
    "Here is some Python code to create a histogram of the sum of two dice rolls. By doing a large number of simulations we should have very accurate estimates of the true values; we set up our program to compare our numerics to the predicted values."
   ]
  },
  {
   "cell_type": "code",
   "execution_count": 10,
   "metadata": {
    "collapsed": false,
    "scrolled": true
   },
   "outputs": [
    {
     "name": "stdout",
     "output_type": "stream",
     "text": [
      "percent of time rolled 2 is 2.8449999999999998, and theory predicts 0.027777777777777776%\n",
      "percent of time rolled 3 is 5.605, and theory predicts 0.05555555555555555%\n",
      "percent of time rolled 4 is 8.452, and theory predicts 0.08333333333333333%\n",
      "percent of time rolled 5 is 11.209, and theory predicts 0.1111111111111111%\n",
      "percent of time rolled 6 is 13.780999999999999, and theory predicts 0.1388888888888889%\n",
      "percent of time rolled 7 is 16.602, and theory predicts 0.16666666666666666%\n",
      "percent of time rolled 8 is 13.926, and theory predicts 0.1388888888888889%\n",
      "percent of time rolled 9 is 10.938, and theory predicts 0.1111111111111111%\n",
      "percent of time rolled 10 is 8.347, and theory predicts 0.08333333333333333%\n",
      "percent of time rolled 11 is 5.532, and theory predicts 0.05555555555555555%\n",
      "percent of time rolled 12 is 2.763, and theory predicts 0.027777777777777776%\n",
      "runtime is 0.4776620864868164\n"
     ]
    }
   ],
   "source": [
    "import random \n",
    "import numpy as np\n",
    "import matplotlib.pyplot as plt\n",
    "import time\n",
    "\n",
    "\n",
    "def dice(rolls):\n",
    "    '''\n",
    "    Prints probabilities and generates histogram for the outcome space of the sum of two die\n",
    "    '''\n",
    "    allsums=[] #store sums here\n",
    "    for i in range(rolls):\n",
    "        die1=random.randint(1,6) #chooses die1 value\n",
    "        die2=random.randint(1,6) #chooses die 2 value \n",
    "        allsums.append(die1+die2) #adds sum to list\n",
    "    count=[0]*13 #creates a list of counts (0 through 12)\n",
    "    for i in allsums:\n",
    "        count[i]+=1 #decraments the appropriate count \n",
    "    count=[count[i]/rolls for i in range(len(count))] #convert counts to relative frequencies \n",
    "    for i in range(2,13):\n",
    "        print(\"percent of time rolled {} is {}, and theory predicts {}%\".format(i,count[i]*100,(6-abs(7-i))/36))\n",
    "\n",
    "    plt.hist(allsums, bins=[1.5,2.5,3.5,4.5,5.5,6.5,7.5,8.5,9.5,10.5,11.5,12.5], weights=np.zeros_like(allsums) + 1. / len(allsums))\n",
    "    plt.title(\"Two Dice Sum Probabilities for {} Simulated Rolls\".format(rolls))\n",
    "    plt.xlabel(\"Sum\")\n",
    "    plt.ylabel(\"Probability\")\n",
    "    fig = plt.gcf()\n",
    "    fig.show() #produces a scaled histogram where area under curve is one \n",
    "\n",
    "start = time.time() #records start time\n",
    "dice(100000) #runs the function\n",
    "runtime = time.time()-start #records end time and subtracts\n",
    "print(\"runtime is\",runtime) #runtime of the program\n"
   ]
  },
  {
   "cell_type": "markdown",
   "metadata": {},
   "source": [
    "This program took .071 seconds to do 10,000 rolls, .508 seconds to do 100,000, 5.25 seconds to do 1,000,000, and 50.87. However, we can do better. It’s expensive to store large lists and it slows down the computer enormously. For this problem, we really don’t need to save all these values; we just want to keep track of how often we get each sum, we don’t care about the order in which we get the sums. Thus, rather than saving our results in a list we should have an array of the 11 possible outcomes (from 2 to 12) and increment, as done in the following code."
   ]
  },
  {
   "cell_type": "code",
   "execution_count": 11,
   "metadata": {
    "collapsed": false
   },
   "outputs": [
    {
     "name": "stdout",
     "output_type": "stream",
     "text": [
      "percent of time rolled 2 is 2.631, and theory predicts 0.027778%\n",
      "percent of time rolled 3 is 5.706, and theory predicts 0.055556%\n",
      "percent of time rolled 4 is 8.481, and theory predicts 0.083333%\n",
      "percent of time rolled 5 is 11.112, and theory predicts 0.11111%\n",
      "percent of time rolled 6 is 13.685, and theory predicts 0.13889%\n",
      "percent of time rolled 7 is 16.637, and theory predicts 0.16667%\n",
      "percent of time rolled 8 is 13.858, and theory predicts 0.13889%\n",
      "percent of time rolled 9 is 11.193, and theory predicts 0.11111%\n",
      "percent of time rolled 10 is 8.277, and theory predicts 0.083333%\n",
      "percent of time rolled 11 is 5.657, and theory predicts 0.055556%\n",
      "percent of time rolled 12 is 2.763, and theory predicts 0.027778%\n",
      "runtime is 0.4832279682159424\n"
     ]
    }
   ],
   "source": [
    "import random \n",
    "import numpy as np\n",
    "import time\n",
    "\n",
    "def better_dice(rolls):\n",
    "    '''\n",
    "    Prints probabilities for the outcome space of the sum of two die\n",
    "    '''\n",
    "    d={i:0 for i in range(2,13)}\n",
    "    for i in range(rolls):\n",
    "        die1=random.randint(1,6) \n",
    "        die2=random.randint(1,6)\n",
    "        d[die1+die2]=d[die1+die2]+1\n",
    "    count=list(d.values())\n",
    "    count=[count[i]/rolls for i in range(len(count))]\n",
    "\n",
    "    for i in range(len(count)):\n",
    "        print(\"percent of time rolled {} is {:.5}, and theory predicts {:.5}%\".format(i+2,count[i]*100,(6-abs(7-(i+2)))/36))\n",
    "\n",
    "start = time.time() #records start time\n",
    "better_dice(100000) #runs the function\n",
    "runtime = time.time()-start #records end time and subtracts\n",
    "print(\"runtime is\",runtime) #runtime of the program"
   ]
  },
  {
   "cell_type": "markdown",
   "metadata": {
    "collapsed": true
   },
   "source": [
    "It took .061 seconds to do 100,000 rolls, 4.87 seconds to do 1,000,000 rolls, and 43.21 seconds to do 10,000,000. This is slightly faster."
   ]
  },
  {
   "cell_type": "markdown",
   "metadata": {},
   "source": [
    "## 7.5 - Additional Problems "
   ]
  },
  {
   "cell_type": "markdown",
   "metadata": {},
   "source": [
    "### Problem 7.5.30"
   ]
  },
  {
   "cell_type": "markdown",
   "metadata": {},
   "source": [
    "Make a histogram showing the probability $X = n$ if $X$ is a random variable whose value corresponds to the number of heads in 3 tosses of a fair coin. Redo with 6 tosses, then 10, then 20, then 40."
   ]
  },
  {
   "cell_type": "code",
   "execution_count": 12,
   "metadata": {
    "collapsed": true
   },
   "outputs": [],
   "source": [
    "import random \n",
    "import numpy as np\n",
    "import matplotlib.pyplot as plt\n",
    "\n",
    "def n_coins(n,trials):\n",
    "    '''\n",
    "    Generates a histogram for the number of heads observed from flipping n fair coins, \n",
    "    averaged over the given number of trials \n",
    "    '''\n",
    "    outcome=[] #initialize outcome list\n",
    "    for i in range(trials):\n",
    "        heads=0\n",
    "        for i in range(n):\n",
    "            heads+=random.randint(0,1)\n",
    "        outcome.append(heads) #append number of heads to outcome list \n",
    "\n",
    "    #produces a scaled histogram where area under curve is one \n",
    "    plt.hist(outcome, bins=[0.5+(1*i) for i in range(n+1)], weights=np.zeros_like(outcome) + 1. / len(outcome)) \n",
    "    plt.title(\"Distribution of Heads for {} Trials of {} Fair Coins\".format(trials,n))\n",
    "    plt.xlabel(\"Number of Heads\")\n",
    "    plt.ylabel(\"Frequency\")\n",
    "    fig = plt.gcf()\n",
    "    fig.show() "
   ]
  }
 ],
 "metadata": {
  "kernelspec": {
   "display_name": "Python 3",
   "language": "python",
   "name": "python3"
  },
  "language_info": {
   "codemirror_mode": {
    "name": "ipython",
    "version": 3
   },
   "file_extension": ".py",
   "mimetype": "text/x-python",
   "name": "python",
   "nbconvert_exporter": "python",
   "pygments_lexer": "ipython3",
   "version": "3.3.5"
  }
 },
 "nbformat": 4,
 "nbformat_minor": 0
}
